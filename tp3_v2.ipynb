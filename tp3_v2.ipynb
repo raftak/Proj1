{
 "cells": [
  {
   "cell_type": "code",
   "execution_count": 1,
   "id": "21091c12",
   "metadata": {},
   "outputs": [],
   "source": [
    "import time\n",
    "import pymongo\n",
    "import datetime\n",
    "import pprint\n",
    "import pandas as pd\n",
    "import json"
   ]
  },
  {
   "cell_type": "markdown",
   "id": "f1e15c42",
   "metadata": {},
   "source": [
    "# 1 - Storage Engines (executado no Linux)"
   ]
  },
  {
   "cell_type": "code",
   "execution_count": null,
   "id": "55cc1a4d",
   "metadata": {},
   "outputs": [],
   "source": [
    "mongo_mmapv1 = pymongo.MongoClient(port=28000)\n",
    "mongo_wiredtiger = pymongo.MongoClient(port=29000)"
   ]
  },
  {
   "cell_type": "code",
   "execution_count": 2,
   "id": "89973daa",
   "metadata": {},
   "outputs": [
    {
     "data": {
      "text/plain": [
       "{'name': 'mmapv1',\n",
       " 'supportsCommittedReads': False,\n",
       " 'readOnly': False,\n",
       " 'persistent': True}"
      ]
     },
     "execution_count": 2,
     "metadata": {},
     "output_type": "execute_result"
    }
   ],
   "source": [
    "mongo_mmapv1[\"benchmark\"].command(\"serverStatus\")[\"storageEngine\"]"
   ]
  },
  {
   "cell_type": "code",
   "execution_count": 3,
   "id": "73d5e742",
   "metadata": {},
   "outputs": [
    {
     "data": {
      "text/plain": [
       "{'name': 'wiredTiger',\n",
       " 'supportsCommittedReads': True,\n",
       " 'readOnly': False,\n",
       " 'persistent': True}"
      ]
     },
     "execution_count": 3,
     "metadata": {},
     "output_type": "execute_result"
    }
   ],
   "source": [
    "mongo_wiredtiger[\"benchmark\"].command(\"serverStatus\")[\"storageEngine\"]"
   ]
  },
  {
   "cell_type": "markdown",
   "id": "0c1cb915",
   "metadata": {},
   "source": [
    "# 2 - Import and Insert Json em uma collection"
   ]
  },
  {
   "cell_type": "code",
   "execution_count": 2,
   "id": "0c3224d2",
   "metadata": {},
   "outputs": [],
   "source": [
    "client = pymongo.MongoClient()\n",
    "\n",
    "db = client['tp08']\n",
    "col_clients = db['clients']"
   ]
  },
  {
   "cell_type": "code",
   "execution_count": 3,
   "id": "42b44099",
   "metadata": {},
   "outputs": [
    {
     "data": {
      "text/plain": [
       "{'version': '5.0.6',\n",
       " 'gitVersion': '212a8dbb47f07427dae194a9c75baec1d81d9259',\n",
       " 'targetMinOS': 'Windows 7/Windows Server 2008 R2',\n",
       " 'modules': [],\n",
       " 'allocator': 'tcmalloc',\n",
       " 'javascriptEngine': 'mozjs',\n",
       " 'sysInfo': 'deprecated',\n",
       " 'versionArray': [5, 0, 6, 0],\n",
       " 'openssl': {'running': 'Windows SChannel'},\n",
       " 'buildEnvironment': {'distmod': 'windows',\n",
       "  'distarch': 'x86_64',\n",
       "  'cc': 'cl: Microsoft (R) C/C++ Optimizing Compiler Version 19.29.30139 for x64',\n",
       "  'ccflags': '/nologo /WX /FImongo/platform/basic.h /EHsc /W3 /wd4068 /wd4244 /wd4267 /wd4290 /wd4351 /wd4355 /wd4373 /wd4800 /wd4251 /wd4291 /we4013 /we4099 /we4930 /errorReport:none /MD /O2 /Oy- /bigobj /utf-8 /permissive- /Zc:__cplusplus /Zc:sizedDealloc /volatile:iso /diagnostics:caret /std:c++17 /Gw /Gy /Zc:inline',\n",
       "  'cxx': 'cl: Microsoft (R) C/C++ Optimizing Compiler Version 19.29.30139 for x64',\n",
       "  'cxxflags': '/TP',\n",
       "  'linkflags': '/nologo /DEBUG /INCREMENTAL:NO /LARGEADDRESSAWARE /OPT:REF',\n",
       "  'target_arch': 'x86_64',\n",
       "  'target_os': 'windows',\n",
       "  'cppdefines': 'SAFEINT_USE_INTRINSICS 0 PCRE_STATIC NDEBUG BOOST_ALL_NO_LIB _UNICODE UNICODE _SILENCE_CXX17_ALLOCATOR_VOID_DEPRECATION_WARNING _SILENCE_CXX17_OLD_ALLOCATOR_MEMBERS_DEPRECATION_WARNING _SILENCE_CXX17_CODECVT_HEADER_DEPRECATION_WARNING _CONSOLE _CRT_SECURE_NO_WARNINGS _SCL_SECURE_NO_WARNINGS _WIN32_WINNT 0x0A00 BOOST_USE_WINAPI_VERSION 0x0A00 NTDDI_VERSION 0x0A000000 BOOST_THREAD_VERSION 5 BOOST_THREAD_USES_DATETIME BOOST_SYSTEM_NO_DEPRECATED BOOST_MATH_NO_LONG_DOUBLE_MATH_FUNCTIONS BOOST_ENABLE_ASSERT_DEBUG_HANDLER BOOST_LOG_NO_SHORTHAND_NAMES BOOST_LOG_USE_NATIVE_SYSLOG BOOST_LOG_WITHOUT_THREAD_ATTR ABSL_FORCE_ALIGNED_ACCESS'},\n",
       " 'bits': 64,\n",
       " 'debug': False,\n",
       " 'maxBsonObjectSize': 16777216,\n",
       " 'storageEngines': ['devnull', 'ephemeralForTest', 'wiredTiger'],\n",
       " 'ok': 1.0}"
      ]
     },
     "execution_count": 3,
     "metadata": {},
     "output_type": "execute_result"
    }
   ],
   "source": [
    "client.server_info()"
   ]
  },
  {
   "cell_type": "code",
   "execution_count": 5,
   "id": "81f7f8c5",
   "metadata": {},
   "outputs": [
    {
     "data": {
      "text/html": [
       "<div>\n",
       "<style scoped>\n",
       "    .dataframe tbody tr th:only-of-type {\n",
       "        vertical-align: middle;\n",
       "    }\n",
       "\n",
       "    .dataframe tbody tr th {\n",
       "        vertical-align: top;\n",
       "    }\n",
       "\n",
       "    .dataframe thead th {\n",
       "        text-align: right;\n",
       "    }\n",
       "</style>\n",
       "<table border=\"1\" class=\"dataframe\">\n",
       "  <thead>\n",
       "    <tr style=\"text-align: right;\">\n",
       "      <th></th>\n",
       "      <th>nome</th>\n",
       "      <th>telefone</th>\n",
       "      <th>endereco</th>\n",
       "      <th>cidade</th>\n",
       "      <th>uf</th>\n",
       "      <th>grauFidelidade</th>\n",
       "      <th>ativo</th>\n",
       "      <th>dependentes</th>\n",
       "    </tr>\n",
       "  </thead>\n",
       "  <tbody>\n",
       "    <tr>\n",
       "      <th>0</th>\n",
       "      <td>Joaquim Maria Machado de Assis</td>\n",
       "      <td>32-2113-6009</td>\n",
       "      <td>Rua Rio de Janeiro, 1839</td>\n",
       "      <td>Bicas</td>\n",
       "      <td>MG</td>\n",
       "      <td>87.60</td>\n",
       "      <td>1.0</td>\n",
       "      <td>NaN</td>\n",
       "    </tr>\n",
       "    <tr>\n",
       "      <th>1</th>\n",
       "      <td>Joao Paulo Emílio Cristovao dos Santos Coelho ...</td>\n",
       "      <td>32-2431-6112</td>\n",
       "      <td>Rua Rio de Janeiro, 1881/201</td>\n",
       "      <td>Bicas</td>\n",
       "      <td>MG</td>\n",
       "      <td>50.00</td>\n",
       "      <td>0.0</td>\n",
       "      <td>[{'nome': 'Maria', 'grau': 'e'}, {'nome': 'Ped...</td>\n",
       "    </tr>\n",
       "    <tr>\n",
       "      <th>2</th>\n",
       "      <td>Afonso Henriques de Lima Barreto</td>\n",
       "      <td>NaN</td>\n",
       "      <td>NaN</td>\n",
       "      <td>NaN</td>\n",
       "      <td>MG</td>\n",
       "      <td>30.33</td>\n",
       "      <td>1.0</td>\n",
       "      <td>NaN</td>\n",
       "    </tr>\n",
       "    <tr>\n",
       "      <th>3</th>\n",
       "      <td>Julia Valentim da Silveira Lopes de Almeida</td>\n",
       "      <td>NaN</td>\n",
       "      <td>NaN</td>\n",
       "      <td>NaN</td>\n",
       "      <td>MG</td>\n",
       "      <td>7.70</td>\n",
       "      <td>1.0</td>\n",
       "      <td>NaN</td>\n",
       "    </tr>\n",
       "    <tr>\n",
       "      <th>4</th>\n",
       "      <td>Joao Simoes Lopes Neto</td>\n",
       "      <td>NaN</td>\n",
       "      <td>NaN</td>\n",
       "      <td>NaN</td>\n",
       "      <td>RJ</td>\n",
       "      <td>99.00</td>\n",
       "      <td>1.0</td>\n",
       "      <td>NaN</td>\n",
       "    </tr>\n",
       "  </tbody>\n",
       "</table>\n",
       "</div>"
      ],
      "text/plain": [
       "                                                nome      telefone  \\\n",
       "0                     Joaquim Maria Machado de Assis  32-2113-6009   \n",
       "1  Joao Paulo Emílio Cristovao dos Santos Coelho ...  32-2431-6112   \n",
       "2                   Afonso Henriques de Lima Barreto           NaN   \n",
       "3        Julia Valentim da Silveira Lopes de Almeida           NaN   \n",
       "4                             Joao Simoes Lopes Neto           NaN   \n",
       "\n",
       "                       endereco cidade  uf  grauFidelidade  ativo  \\\n",
       "0      Rua Rio de Janeiro, 1839  Bicas  MG           87.60    1.0   \n",
       "1  Rua Rio de Janeiro, 1881/201  Bicas  MG           50.00    0.0   \n",
       "2                           NaN    NaN  MG           30.33    1.0   \n",
       "3                           NaN    NaN  MG            7.70    1.0   \n",
       "4                           NaN    NaN  RJ           99.00    1.0   \n",
       "\n",
       "                                         dependentes  \n",
       "0                                                NaN  \n",
       "1  [{'nome': 'Maria', 'grau': 'e'}, {'nome': 'Ped...  \n",
       "2                                                NaN  \n",
       "3                                                NaN  \n",
       "4                                                NaN  "
      ]
     },
     "execution_count": 5,
     "metadata": {},
     "output_type": "execute_result"
    }
   ],
   "source": [
    "data_json = pd.read_json(r'C:\\Users\\rafae\\Documents\\DR3_E01_LR01_clientes.json', orient='records', lines=True)\n",
    "data_json.head()\n",
    "#json.loads(data_jason)\n"
   ]
  },
  {
   "cell_type": "code",
   "execution_count": null,
   "id": "1c763252",
   "metadata": {},
   "outputs": [],
   "source": []
  },
  {
   "cell_type": "code",
   "execution_count": 6,
   "id": "fcab832b",
   "metadata": {},
   "outputs": [],
   "source": [
    "results = col_clients.insert_many(\n",
    "    data_json.to_dict(orient='records')\n",
    ")"
   ]
  },
  {
   "cell_type": "code",
   "execution_count": 4,
   "id": "03144aea",
   "metadata": {},
   "outputs": [
    {
     "data": {
      "text/plain": [
       "['admin',\n",
       " 'airbnb',\n",
       " 'benchmark',\n",
       " 'config',\n",
       " 'faculdade',\n",
       " 'funcionarios',\n",
       " 'local',\n",
       " 'loja',\n",
       " 'relacoes_referencia',\n",
       " 'tp02',\n",
       " 'tp08',\n",
       " 'tree_ref_parent']"
      ]
     },
     "execution_count": 4,
     "metadata": {},
     "output_type": "execute_result"
    }
   ],
   "source": [
    "client.list_database_names()"
   ]
  },
  {
   "cell_type": "code",
   "execution_count": 5,
   "id": "50fef155",
   "metadata": {},
   "outputs": [
    {
     "data": {
      "text/plain": [
       "[{'_id': ObjectId('629f53a4a98d71d99aeab23a'),\n",
       "  'nome': 'Joaquim Maria Machado de Assis',\n",
       "  'telefone': '32-2113-6009',\n",
       "  'endereco': 'Rua Rio de Janeiro, 1839',\n",
       "  'cidade': 'Bicas',\n",
       "  'uf': 'MG',\n",
       "  'grauFidelidade': 87.6,\n",
       "  'ativo': 1.0,\n",
       "  'dependentes': nan},\n",
       " {'_id': ObjectId('629f53a4a98d71d99aeab23b'),\n",
       "  'nome': 'Joao Paulo Emílio Cristovao dos Santos Coelho Barreto',\n",
       "  'telefone': '32-2431-6112',\n",
       "  'endereco': 'Rua Rio de Janeiro, 1881/201',\n",
       "  'cidade': 'Bicas',\n",
       "  'uf': 'MG',\n",
       "  'grauFidelidade': 50.0,\n",
       "  'ativo': 0.0,\n",
       "  'dependentes': [{'nome': 'Maria', 'grau': 'e'},\n",
       "   {'nome': 'Pedro', 'grau': 'f'}]},\n",
       " {'_id': ObjectId('629f53a4a98d71d99aeab23c'),\n",
       "  'nome': 'Afonso Henriques de Lima Barreto',\n",
       "  'telefone': nan,\n",
       "  'endereco': nan,\n",
       "  'cidade': nan,\n",
       "  'uf': 'MG',\n",
       "  'grauFidelidade': 30.33,\n",
       "  'ativo': 1.0,\n",
       "  'dependentes': nan},\n",
       " {'_id': ObjectId('629f53a4a98d71d99aeab23d'),\n",
       "  'nome': 'Julia Valentim da Silveira Lopes de Almeida',\n",
       "  'telefone': nan,\n",
       "  'endereco': nan,\n",
       "  'cidade': nan,\n",
       "  'uf': 'MG',\n",
       "  'grauFidelidade': 7.7,\n",
       "  'ativo': 1.0,\n",
       "  'dependentes': nan},\n",
       " {'_id': ObjectId('629f53a4a98d71d99aeab23e'),\n",
       "  'nome': 'Joao Simoes Lopes Neto',\n",
       "  'telefone': nan,\n",
       "  'endereco': nan,\n",
       "  'cidade': nan,\n",
       "  'uf': 'RJ',\n",
       "  'grauFidelidade': 99.0,\n",
       "  'ativo': 1.0,\n",
       "  'dependentes': nan}]"
      ]
     },
     "execution_count": 5,
     "metadata": {},
     "output_type": "execute_result"
    }
   ],
   "source": [
    "list(col_clients.find().limit(5))"
   ]
  },
  {
   "cell_type": "code",
   "execution_count": 10,
   "id": "f0bed093",
   "metadata": {},
   "outputs": [
    {
     "data": {
      "text/plain": [
       "'nome_1_uf_1_cidade_1'"
      ]
     },
     "execution_count": 10,
     "metadata": {},
     "output_type": "execute_result"
    }
   ],
   "source": [
    "#col_clients.create_index([ ('nome','uf') ])\n",
    "col_clients.create_index([('nome', 1), ('uf', 1), ('cidade', 1)])"
   ]
  },
  {
   "cell_type": "code",
   "execution_count": 10,
   "id": "cb3b13ed",
   "metadata": {},
   "outputs": [
    {
     "data": {
      "text/plain": [
       "'nome_1'"
      ]
     },
     "execution_count": 10,
     "metadata": {},
     "output_type": "execute_result"
    }
   ],
   "source": [
    "col_clients.create_index([ ('nome', pymongo.ASCENDING) ])"
   ]
  },
  {
   "cell_type": "code",
   "execution_count": 12,
   "id": "6759a945",
   "metadata": {},
   "outputs": [
    {
     "data": {
      "text/plain": [
       "'uf_1'"
      ]
     },
     "execution_count": 12,
     "metadata": {},
     "output_type": "execute_result"
    }
   ],
   "source": [
    "col_clients.create_index([ ('uf', pymongo.ASCENDING) ])"
   ]
  },
  {
   "cell_type": "code",
   "execution_count": 13,
   "id": "c989aea4",
   "metadata": {},
   "outputs": [
    {
     "data": {
      "text/plain": [
       "'cidade_1'"
      ]
     },
     "execution_count": 13,
     "metadata": {},
     "output_type": "execute_result"
    }
   ],
   "source": [
    "col_clients.create_index([ ('cidade', pymongo.ASCENDING) ])"
   ]
  },
  {
   "cell_type": "markdown",
   "id": "f3ab492d",
   "metadata": {},
   "source": [
    "# 3 - LOOP INSERT E CRIACAO DE INDICES"
   ]
  },
  {
   "cell_type": "code",
   "execution_count": 7,
   "id": "f5613ba5",
   "metadata": {},
   "outputs": [],
   "source": [
    "col_lista = db['lista']"
   ]
  },
  {
   "cell_type": "code",
   "execution_count": 16,
   "id": "d1d098e4",
   "metadata": {},
   "outputs": [],
   "source": [
    "for i in range(100000): \n",
    "    col_lista.insert_one({'x': i})\n",
    "\n"
   ]
  },
  {
   "cell_type": "code",
   "execution_count": 8,
   "id": "c73276c6",
   "metadata": {},
   "outputs": [
    {
     "name": "stdout",
     "output_type": "stream",
     "text": [
      "{'_id': ObjectId('629f585fa98d71d99aeab25b'), 'x': 0}\n",
      "{'_id': ObjectId('629f585fa98d71d99aeab25c'), 'x': 1}\n",
      "{'_id': ObjectId('629f585fa98d71d99aeab25d'), 'x': 2}\n",
      "{'_id': ObjectId('629f585fa98d71d99aeab25e'), 'x': 3}\n",
      "{'_id': ObjectId('629f585fa98d71d99aeab25f'), 'x': 4}\n",
      "{'_id': ObjectId('629f585fa98d71d99aeab260'), 'x': 5}\n",
      "{'_id': ObjectId('629f585fa98d71d99aeab261'), 'x': 6}\n",
      "{'_id': ObjectId('629f585fa98d71d99aeab262'), 'x': 7}\n",
      "{'_id': ObjectId('629f585fa98d71d99aeab263'), 'x': 8}\n",
      "{'_id': ObjectId('629f585fa98d71d99aeab264'), 'x': 9}\n"
     ]
    }
   ],
   "source": [
    "for post in col_lista.find().limit(10):\n",
    "    pprint.pprint(post)"
   ]
  },
  {
   "cell_type": "code",
   "execution_count": 10,
   "id": "abbcdd24",
   "metadata": {},
   "outputs": [
    {
     "data": {
      "text/plain": [
       "[{'_id': ObjectId('629f585fa98d71d99aeab643'), 'x': 1000}]"
      ]
     },
     "execution_count": 10,
     "metadata": {},
     "output_type": "execute_result"
    }
   ],
   "source": [
    "list(col_lista.find ( { 'x' : 1000 } ))\n"
   ]
  },
  {
   "cell_type": "code",
   "execution_count": 11,
   "id": "15a26c15",
   "metadata": {},
   "outputs": [
    {
     "name": "stdout",
     "output_type": "stream",
     "text": [
      "{\n",
      "    \"explainVersion\": \"1\",\n",
      "    \"queryPlanner\": {\n",
      "        \"namespace\": \"tp08.lista\",\n",
      "        \"indexFilterSet\": false,\n",
      "        \"parsedQuery\": {\n",
      "            \"x\": {\n",
      "                \"$eq\": 1000\n",
      "            }\n",
      "        },\n",
      "        \"maxIndexedOrSolutionsReached\": false,\n",
      "        \"maxIndexedAndSolutionsReached\": false,\n",
      "        \"maxScansToExplodeReached\": false,\n",
      "        \"winningPlan\": {\n",
      "            \"stage\": \"COLLSCAN\",\n",
      "            \"filter\": {\n",
      "                \"x\": {\n",
      "                    \"$eq\": 1000\n",
      "                }\n",
      "            },\n",
      "            \"direction\": \"forward\"\n",
      "        },\n",
      "        \"rejectedPlans\": []\n",
      "    },\n",
      "    \"executionStats\": {\n",
      "        \"executionSuccess\": true,\n",
      "        \"nReturned\": 1,\n",
      "        \"executionTimeMillis\": 48,\n",
      "        \"totalKeysExamined\": 0,\n",
      "        \"totalDocsExamined\": 100000,\n",
      "        \"executionStages\": {\n",
      "            \"stage\": \"COLLSCAN\",\n",
      "            \"filter\": {\n",
      "                \"x\": {\n",
      "                    \"$eq\": 1000\n",
      "                }\n",
      "            },\n",
      "            \"nReturned\": 1,\n",
      "            \"executionTimeMillisEstimate\": 0,\n",
      "            \"works\": 100002,\n",
      "            \"advanced\": 1,\n",
      "            \"needTime\": 100000,\n",
      "            \"needYield\": 0,\n",
      "            \"saveState\": 100,\n",
      "            \"restoreState\": 100,\n",
      "            \"isEOF\": 1,\n",
      "            \"direction\": \"forward\",\n",
      "            \"docsExamined\": 100000\n",
      "        },\n",
      "        \"allPlansExecution\": []\n",
      "    },\n",
      "    \"command\": {\n",
      "        \"find\": \"lista\",\n",
      "        \"filter\": {\n",
      "            \"x\": 1000\n",
      "        },\n",
      "        \"$db\": \"tp08\"\n",
      "    },\n",
      "    \"serverInfo\": {\n",
      "        \"host\": \"LAPTOP-782EA3G0\",\n",
      "        \"port\": 27017,\n",
      "        \"version\": \"5.0.6\",\n",
      "        \"gitVersion\": \"212a8dbb47f07427dae194a9c75baec1d81d9259\"\n",
      "    },\n",
      "    \"serverParameters\": {\n",
      "        \"internalQueryFacetBufferSizeBytes\": 104857600,\n",
      "        \"internalQueryFacetMaxOutputDocSizeBytes\": 104857600,\n",
      "        \"internalLookupStageIntermediateDocumentMaxSizeBytes\": 104857600,\n",
      "        \"internalDocumentSourceGroupMaxMemoryBytes\": 104857600,\n",
      "        \"internalQueryMaxBlockingSortMemoryUsageBytes\": 104857600,\n",
      "        \"internalQueryProhibitBlockingMergeOnMongoS\": 0,\n",
      "        \"internalQueryMaxAddToSetBytes\": 104857600,\n",
      "        \"internalDocumentSourceSetWindowFieldsMaxMemoryBytes\": 104857600\n",
      "    },\n",
      "    \"ok\": 1.0\n",
      "}\n"
     ]
    }
   ],
   "source": [
    "cursor_one = col_lista.find ( { 'x' : 1000 } )\n",
    "\n",
    "plan = cursor_one.explain()\n",
    "print(json.dumps(plan, indent=4))"
   ]
  },
  {
   "cell_type": "markdown",
   "id": "07ae0133",
   "metadata": {},
   "source": [
    "# Foi usado coll_scan entao precisa-se criar indices para melhorar o plano de execucao usando indices."
   ]
  },
  {
   "cell_type": "markdown",
   "id": "2aa84dfc",
   "metadata": {},
   "source": [
    "# 4- Acompanhando as Insercoes"
   ]
  },
  {
   "cell_type": "code",
   "execution_count": null,
   "id": "db8cd727",
   "metadata": {},
   "outputs": [],
   "source": [
    "ver resposta no pdf"
   ]
  },
  {
   "cell_type": "markdown",
   "id": "bd8bbeb0",
   "metadata": {},
   "source": [
    "# 5- Criando um terceiro servidor sem autenticacao e entao um usuario admin"
   ]
  },
  {
   "cell_type": "code",
   "execution_count": 2,
   "id": "408e2b85",
   "metadata": {},
   "outputs": [],
   "source": [
    "client = pymongo.MongoClient(port=20000)"
   ]
  },
  {
   "cell_type": "code",
   "execution_count": 6,
   "id": "1fad1cde",
   "metadata": {},
   "outputs": [],
   "source": [
    "client = pymongo.MongoClient(\n",
    "    username='dba',\n",
    "    password='senha',port=20000\n",
    ")"
   ]
  },
  {
   "cell_type": "code",
   "execution_count": 7,
   "id": "64973b00",
   "metadata": {},
   "outputs": [
    {
     "data": {
      "text/plain": [
       "['admin', 'config', 'local']"
      ]
     },
     "execution_count": 7,
     "metadata": {},
     "output_type": "execute_result"
    }
   ],
   "source": [
    "client.list_database_names()"
   ]
  },
  {
   "cell_type": "markdown",
   "id": "dc2e73c5",
   "metadata": {},
   "source": [
    "# 6) Crie um usuário, o primeiro, possuindo prerrogativas de administrar qualquer banco e modificar ou ler dados também em qualquer base"
   ]
  },
  {
   "cell_type": "code",
   "execution_count": 22,
   "id": "e05d6bba",
   "metadata": {},
   "outputs": [
    {
     "data": {
      "text/plain": [
       "{'ok': 1.0}"
      ]
     },
     "execution_count": 22,
     "metadata": {},
     "output_type": "execute_result"
    }
   ],
   "source": [
    "db_admin = client['admin']\n",
    "\n",
    "db_admin.command(\n",
    "    \"createUser\",\n",
    "    \"myUserAdmin2\",\n",
    "    pwd=\"raf321\",\n",
    "    roles=[\n",
    "        {\"role\": \"userAdminAnyDatabase\", \"db\": \"admin\"},\n",
    "        \"readWriteAnyDatabase\"\n",
    "    ]\n",
    ")\n"
   ]
  },
  {
   "cell_type": "markdown",
   "id": "5141fad2",
   "metadata": {},
   "source": [
    "# 7) Depois de criado o primeiro usuário, desconecte-se, habilite a autenticação e faça uma nova conexão sem autenticação. Tente criar outro usuário com máximas prerrogativas. O que ocorreu?"
   ]
  },
  {
   "cell_type": "code",
   "execution_count": null,
   "id": "d0c6a648",
   "metadata": {},
   "outputs": [],
   "source": [
    "Resposta no pdf"
   ]
  },
  {
   "cell_type": "markdown",
   "id": "83137329",
   "metadata": {},
   "source": [
    "# 8) Crie mais dois usuários, exclusivos para os bancos de dados bd1 e bd2\n",
    "9 ) Mostre os usuarios criados"
   ]
  },
  {
   "cell_type": "code",
   "execution_count": 9,
   "id": "b5d7478a",
   "metadata": {},
   "outputs": [],
   "source": [
    "db_admin = client['admin']"
   ]
  },
  {
   "cell_type": "code",
   "execution_count": 11,
   "id": "346bcd7b",
   "metadata": {},
   "outputs": [
    {
     "data": {
      "text/plain": [
       "{'ok': 1.0}"
      ]
     },
     "execution_count": 11,
     "metadata": {},
     "output_type": "execute_result"
    }
   ],
   "source": [
    "db_admin.command(\n",
    "    \"createUser\",\n",
    "    \"User1\",\n",
    "    pwd=\"abc123\",\n",
    "    roles=[\n",
    "        {'role': 'readWrite', 'db': 'bd1'}\n",
    "    ]\n",
    ")"
   ]
  },
  {
   "cell_type": "code",
   "execution_count": 12,
   "id": "edeb7f2e",
   "metadata": {},
   "outputs": [
    {
     "data": {
      "text/plain": [
       "{'ok': 1.0}"
      ]
     },
     "execution_count": 12,
     "metadata": {},
     "output_type": "execute_result"
    }
   ],
   "source": [
    "db_admin.command(\n",
    "    \"createUser\",\n",
    "    \"User2\",\n",
    "    pwd=\"abc1234\",\n",
    "    roles=[\n",
    "        {'role': 'readWrite', 'db': 'bd2'}\n",
    "    ]\n",
    ")"
   ]
  },
  {
   "cell_type": "code",
   "execution_count": 16,
   "id": "2ca443aa",
   "metadata": {},
   "outputs": [
    {
     "data": {
      "text/plain": [
       "[{'_id': 'admin.dba',\n",
       "  'userId': Binary(b'\\xd9\\x1d\\x03\\x81]\\nH\\x99\\xb9\\xb2j\\xbb\\xcb\\n\\x0f\\xb6', 4),\n",
       "  'user': 'dba',\n",
       "  'db': 'admin',\n",
       "  'credentials': {'SCRAM-SHA-1': {'iterationCount': 10000,\n",
       "    'salt': 'v7QdOjzHtI2oQ/uxT8nmMg==',\n",
       "    'storedKey': '+x9LHCJSRCtepV+/s3nqRRajvc8=',\n",
       "    'serverKey': 'r/K5eDsQaETfFhKtN7gE2vr4A2E='},\n",
       "   'SCRAM-SHA-256': {'iterationCount': 15000,\n",
       "    'salt': 'la7OQt5pPIQoFw+LiaX3NgSo/I0TB1R+o1OqCA==',\n",
       "    'storedKey': '9peXpFeF8Wkq2drikOaqjaeqBTE0M4vd2o86IPzV4jY=',\n",
       "    'serverKey': 'cHtGeYI9/pCDUpSwG8r8BQ0pGZ/ATzUelqbmVdsPudg='}},\n",
       "  'roles': [{'role': 'readWriteAnyDatabase', 'db': 'admin'},\n",
       "   {'role': 'userAdminAnyDatabase', 'db': 'admin'}]},\n",
       " {'_id': 'admin.User1',\n",
       "  'userId': Binary(b'\\xc4kdM\\xe5\\xd8Af\\x85 \\x085\\xa8=\"_', 4),\n",
       "  'user': 'User1',\n",
       "  'db': 'admin',\n",
       "  'credentials': {'SCRAM-SHA-1': {'iterationCount': 10000,\n",
       "    'salt': 'T94qvpjQmOuivnJsqPCCjA==',\n",
       "    'storedKey': 'UiJLjKaDj3N5d1W9C9IpN2eJ4fc=',\n",
       "    'serverKey': 'rQ5Gg5IR1h+/ow6QGZeu6S14PhY='},\n",
       "   'SCRAM-SHA-256': {'iterationCount': 15000,\n",
       "    'salt': '9/MS3mr3xSHEJ7XPrrWiEV1UGxSQ8gf1vTUnIQ==',\n",
       "    'storedKey': '1jKiscUu039pVYcRF9sQ80zLi6isktk18Cv9MeC3Z7k=',\n",
       "    'serverKey': 'qLNx04IQEs6e+JIe7z26mAsS5Ixql5NX5Ua5mrToT1M='}},\n",
       "  'roles': [{'role': 'readWrite', 'db': 'bd1'}]},\n",
       " {'_id': 'admin.User2',\n",
       "  'userId': Binary(b'\\xe87-%.-BJ\\xacg\\x03\\nh!\\xed\\x06', 4),\n",
       "  'user': 'User2',\n",
       "  'db': 'admin',\n",
       "  'credentials': {'SCRAM-SHA-1': {'iterationCount': 10000,\n",
       "    'salt': 'hR1L8HyliIGpXqMRXmddlQ==',\n",
       "    'storedKey': 'Aq7gv/Bf/rYvLb2V3C1DqghhIvU=',\n",
       "    'serverKey': 'CGKul3oBGN3rcioxTY40M610MQg='},\n",
       "   'SCRAM-SHA-256': {'iterationCount': 15000,\n",
       "    'salt': 'p3TjGMnYx7jEsCEcJPONb6hzpDKGn9uOVvRTqA==',\n",
       "    'storedKey': 'hOYW+aj++6m4BAo85PJYrZdqYZNsUYlU7iF5UKoyadk=',\n",
       "    'serverKey': 'sqeIx0A4NDmRUXWGcbg0YTfsmxV9R5O41G197pOv5DQ='}},\n",
       "  'roles': [{'role': 'readWrite', 'db': 'bd2'}]}]"
      ]
     },
     "execution_count": 16,
     "metadata": {},
     "output_type": "execute_result"
    }
   ],
   "source": [
    "list(db_admin.system.users.find())"
   ]
  },
  {
   "cell_type": "code",
   "execution_count": 17,
   "id": "ed87d21d",
   "metadata": {},
   "outputs": [
    {
     "data": {
      "text/plain": [
       "['admin', 'config', 'local']"
      ]
     },
     "execution_count": 17,
     "metadata": {},
     "output_type": "execute_result"
    }
   ],
   "source": [
    "client.list_database_names()"
   ]
  },
  {
   "cell_type": "code",
   "execution_count": null,
   "id": "2f6e2582",
   "metadata": {},
   "outputs": [],
   "source": []
  }
 ],
 "metadata": {
  "kernelspec": {
   "display_name": "Python 3 (ipykernel)",
   "language": "python",
   "name": "python3"
  },
  "language_info": {
   "codemirror_mode": {
    "name": "ipython",
    "version": 3
   },
   "file_extension": ".py",
   "mimetype": "text/x-python",
   "name": "python",
   "nbconvert_exporter": "python",
   "pygments_lexer": "ipython3",
   "version": "3.9.7"
  }
 },
 "nbformat": 4,
 "nbformat_minor": 5
}
